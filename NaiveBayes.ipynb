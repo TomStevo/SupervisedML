{
 "cells": [
  {
   "cell_type": "markdown",
   "metadata": {},
   "source": [
    "# Naïve Bayes Classifiers"
   ]
  },
  {
   "cell_type": "code",
   "execution_count": null,
   "metadata": {},
   "outputs": [],
   "source": [
    "import pandas as pd\n",
    "import numpy as np\n",
    "import matplotlib\n",
    "import matplotlib.pyplot as plt\n",
    "from sklearn.naive_bayes import GaussianNB\n",
    "from sklearn.naive_bayes import MultinomialNB\n",
    "import Datasets\n",
    "import Tools"
   ]
  },
  {
   "cell_type": "code",
   "execution_count": null,
   "metadata": {},
   "outputs": [],
   "source": [
    "matplotlib.rcParams['figure.figsize'] = (10, 5)"
   ]
  },
  {
   "cell_type": "markdown",
   "metadata": {},
   "source": [
    "# Gaussian Naïve Bayes\n",
    "<a href=\"https://scikit-learn.org/stable/modules/generated/sklearn.naive_bayes.GaussianNB.html#sklearn.naive_bayes.GaussianNB\">\n",
    "SkLearn GaussianNB\n",
    "</a>"
   ]
  },
  {
   "cell_type": "code",
   "execution_count": null,
   "metadata": {},
   "outputs": [],
   "source": [
    "mu_s = [0.45,0.45]\n",
    "mu_b = [-0.45,-0.45]\n",
    "sigma_s = [0.2, 0.3]\n",
    "sigma_b = [0.2, 0.2]\n",
    "\n",
    "sig = Datasets.gen_2Dgauss(mu_s,sigma_s,100)\n",
    "bkg = Datasets.gen_2Dgauss(mu_b,sigma_b,100)\n",
    "\n",
    "GNB = GaussianNB()\n",
    "\n",
    "Tools.train_mva(GNB,sig,bkg)\n",
    "Tools.evaluate_mva(GNB,sig,bkg)\n",
    "plt.show()"
   ]
  },
  {
   "cell_type": "code",
   "execution_count": null,
   "metadata": {},
   "outputs": [],
   "source": [
    "sig = Datasets.gen_spiral( a=0.2, s=0, n=1000 )\n",
    "bkg = Datasets.gen_spiral( a=-0.2, s=0.2, n=1000 )\n",
    "\n",
    "Tools.train_mva(GNB,sig,bkg)\n",
    "Tools.evaluate_mva(GNB,sig,bkg)\n",
    "plt.show()"
   ]
  },
  {
   "cell_type": "code",
   "execution_count": null,
   "metadata": {},
   "outputs": [],
   "source": [
    "sig = Datasets.gen_chess('s',1000)\n",
    "bkg = Datasets.gen_chess('b',1000)\n",
    "\n",
    "Tools.train_mva(GNB,sig,bkg)\n",
    "Tools.evaluate_mva(GNB,sig,bkg)\n",
    "plt.show()"
   ]
  }
 ],
 "metadata": {
  "kernelspec": {
   "display_name": "Python 3",
   "language": "python",
   "name": "python3"
  },
  "language_info": {
   "codemirror_mode": {
    "name": "ipython",
    "version": 3
   },
   "file_extension": ".py",
   "mimetype": "text/x-python",
   "name": "python",
   "nbconvert_exporter": "python",
   "pygments_lexer": "ipython3",
   "version": "3.6.6"
  }
 },
 "nbformat": 4,
 "nbformat_minor": 2
}
