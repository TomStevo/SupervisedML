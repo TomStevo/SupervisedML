{
 "cells": [
  {
   "cell_type": "markdown",
   "metadata": {},
   "source": [
    "# Decision Trees, Random Forests and Boosting"
   ]
  },
  {
   "cell_type": "code",
   "execution_count": null,
   "metadata": {},
   "outputs": [],
   "source": [
    "import pandas as pd\n",
    "import numpy as np\n",
    "import matplotlib\n",
    "import matplotlib.pyplot as plt\n",
    "from sklearn import tree\n",
    "from sklearn.ensemble import RandomForestClassifier\n",
    "from sklearn.ensemble import AdaBoostClassifier\n",
    "from sklearn.ensemble import GradientBoostingClassifier\n",
    "from sklearn.metrics import accuracy_score\n",
    "import Datasets\n",
    "import Plotting\n",
    "import Tools"
   ]
  },
  {
   "cell_type": "code",
   "execution_count": null,
   "metadata": {},
   "outputs": [],
   "source": [
    "matplotlib.rcParams['figure.figsize'] = (10, 5)"
   ]
  },
  {
   "cell_type": "code",
   "execution_count": null,
   "metadata": {},
   "outputs": [],
   "source": [
    "mu_s = [0.45,0.45]\n",
    "mu_b = [-0.45,-0.45]\n",
    "sigma_s = [0.2, 0.3]\n",
    "sigma_b = [0.2, 0.2]\n",
    "\n",
    "sig = Datasets.gen_2Dgauss(mu_s,sigma_s,1000)\n",
    "bkg = Datasets.gen_2Dgauss(mu_b,sigma_b,1000)"
   ]
  },
  {
   "cell_type": "markdown",
   "metadata": {},
   "source": [
    "# Decision Trees\n",
    "<a href=\"https://scikit-learn.org/stable/modules/generated/sklearn.tree.DecisionTreeClassifier.html#sklearn.tree.DecisionTreeClassifier\">\n",
    "SkLearn DecisionTreeClassifier\n",
    "</a>"
   ]
  },
  {
   "cell_type": "code",
   "execution_count": null,
   "metadata": {},
   "outputs": [],
   "source": [
    "dt = tree.DecisionTreeClassifier(max_depth=3)\n",
    "\n",
    "Tools.train_mva(dt,sig,bkg)\n",
    "\n",
    "tree.plot_tree(dt,feature_names=['x','y'],class_names=['sig','bkg'],filled=True)\n",
    "plt.show()"
   ]
  },
  {
   "cell_type": "code",
   "execution_count": null,
   "metadata": {},
   "outputs": [],
   "source": [
    "Tools.evaluate_mva(dt,sig,bkg)\n",
    "plt.show()"
   ]
  },
  {
   "cell_type": "markdown",
   "metadata": {},
   "source": [
    "# Random Forest Classifier\n",
    "<a href=\"https://scikit-learn.org/stable/modules/generated/sklearn.ensemble.RandomForestClassifier.html\">\n",
    "SkLearn RandomForestClassifier\n",
    "</a>"
   ]
  },
  {
   "cell_type": "code",
   "execution_count": null,
   "metadata": {},
   "outputs": [],
   "source": [
    "RF = RandomForestClassifier(n_estimators=10, max_depth=None,\n",
    "                            min_samples_split=2, random_state=0)\n",
    "\n",
    "Tools.train_mva(RF,sig,bkg)\n",
    "Tools.evaluate_mva(RF,sig,bkg)\n",
    "plt.show()"
   ]
  },
  {
   "cell_type": "markdown",
   "metadata": {},
   "source": [
    "# AdaBoost Decision Tree\n",
    "<a href=\"https://scikit-learn.org/stable/modules/generated/sklearn.ensemble.AdaBoostClassifier.html\">\n",
    "SkLearn AdaBoostClassifier\n",
    "</a>"
   ]
  },
  {
   "cell_type": "code",
   "execution_count": null,
   "metadata": {},
   "outputs": [],
   "source": [
    "ABDT = AdaBoostClassifier(tree.DecisionTreeClassifier(max_depth=4),\n",
    "                         algorithm=\"SAMME\",\n",
    "                         n_estimators=200)\n",
    "\n",
    "Tools.train_mva(ABDT,sig,bkg)\n",
    "Tools.evaluate_mva(ABDT,sig,bkg)\n",
    "plt.show()"
   ]
  },
  {
   "cell_type": "code",
   "execution_count": null,
   "metadata": {},
   "outputs": [],
   "source": [
    "sig_train = Datasets.gen_spiral( a=0.2, s=0, n=1000 )\n",
    "sig_test  = Datasets.gen_spiral( a=0.2, s=0, n=1000 )\n",
    "\n",
    "bkg_train = Datasets.gen_spiral( a=-0.2, s=0.2, n=1000 )\n",
    "bkg_test  = Datasets.gen_spiral( a=-0.2, s=0.2, n=1000 )\n",
    "\n",
    "ABDT = AdaBoostClassifier(tree.DecisionTreeClassifier(max_depth=4),\n",
    "                         algorithm=\"SAMME\",\n",
    "                         n_estimators=200)\n",
    "\n",
    "Tools.train_mva(ABDT,sig_train,bkg_train)\n",
    "Tools.evaluate_mva(ABDT,sig_train,bkg_train)\n",
    "plt.show()"
   ]
  },
  {
   "cell_type": "code",
   "execution_count": null,
   "metadata": {},
   "outputs": [],
   "source": [
    "def errorVsTree(clf,sig_train,bkg_train,sig_test,bkg_test):\n",
    "\n",
    "    X_train = np.concatenate( [sig_train.values,bkg_train.values] )\n",
    "    y_train = np.concatenate( [np.ones(len(sig_train.index)),np.zeros(len(bkg_train.index))] )\n",
    "    X_test = np.concatenate( [sig_test.values,bkg_test.values] )\n",
    "    y_test = np.concatenate( [np.ones(len(sig_test.index)),np.zeros(len(bkg_test.index))] )\n",
    "\n",
    "    train_errors = []\n",
    "    test_errors  = []\n",
    "    \n",
    "    for train_predict,test_predict in zip(clf.staged_predict(X_train),clf.staged_predict(X_test)):\n",
    "        train_errors.append(1. - accuracy_score(train_predict, y_train))\n",
    "        test_errors.append(1. - accuracy_score(test_predict, y_test))\n",
    "\n",
    "    n_trees = len(clf)\n",
    "\n",
    "    plt.plot(range(1, n_trees + 1), train_errors, c='red', label='Train')\n",
    "    plt.plot(range(1, n_trees + 1), test_errors, c='black', label='Test')\n",
    "    plt.legend()\n",
    "    plt.ylim(0.9*min(min(train_errors),min(test_errors)),1.1*max(max(train_errors),max(test_errors)))\n",
    "    plt.ylabel('Test Error')\n",
    "    plt.xlabel('Number of Trees')\n",
    "    plt.show()\n",
    "\n",
    "    return"
   ]
  },
  {
   "cell_type": "code",
   "execution_count": null,
   "metadata": {},
   "outputs": [],
   "source": [
    "errorVsTree(ABDT,sig_train,bkg_train,sig_test,bkg_test)"
   ]
  },
  {
   "cell_type": "markdown",
   "metadata": {},
   "source": [
    "# Gradient Boost Decision Tree\n",
    "<a href=\"https://scikit-learn.org/stable/modules/generated/sklearn.ensemble.GradientBoostingClassifier.html\">\n",
    "SkLearn GradientBoodtingClassifier\n",
    "</a>"
   ]
  },
  {
   "cell_type": "code",
   "execution_count": null,
   "metadata": {},
   "outputs": [],
   "source": [
    "sig_train = Datasets.gen_spiral( a=0.2, s=0, n=1000 )\n",
    "sig_test  = Datasets.gen_spiral( a=0.2, s=0, n=1000 )\n",
    "\n",
    "bkg_train = Datasets.gen_spiral( a=-0.2, s=0.2, n=1000 )\n",
    "bkg_test  = Datasets.gen_spiral( a=-0.2, s=0.2, n=1000 )\n",
    "\n",
    "GBDT = GradientBoostingClassifier(max_depth=4,learning_rate=0.1,\n",
    "                               n_estimators=200,random_state=0)\n",
    "\n",
    "Tools.train_mva(GBDT,sig_train,bkg_train)\n",
    "Tools.evaluate_mva(GBDT,sig_train,bkg_train)\n",
    "plt.show()\n",
    "errorVsTree(ABDT,sig_train,bkg_train,sig_test,bkg_test)"
   ]
  },
  {
   "cell_type": "code",
   "execution_count": null,
   "metadata": {},
   "outputs": [],
   "source": [
    "sig = Datasets.gen_chess('s',1000)\n",
    "bkg = Datasets.gen_chess('b',1000)\n",
    "\n",
    "GBDT = GradientBoostingClassifier(max_depth=4,learning_rate=0.1,\n",
    "                               n_estimators=200,random_state=0)\n",
    "\n",
    "Tools.train_mva(GBDT,sig,bkg)\n",
    "Tools.evaluate_mva(GBDT,sig,bkg)\n",
    "plt.show()"
   ]
  }
 ],
 "metadata": {
  "kernelspec": {
   "display_name": "Python 3",
   "language": "python",
   "name": "python3"
  },
  "language_info": {
   "codemirror_mode": {
    "name": "ipython",
    "version": 3
   },
   "file_extension": ".py",
   "mimetype": "text/x-python",
   "name": "python",
   "nbconvert_exporter": "python",
   "pygments_lexer": "ipython3",
   "version": "3.6.6"
  }
 },
 "nbformat": 4,
 "nbformat_minor": 2
}
