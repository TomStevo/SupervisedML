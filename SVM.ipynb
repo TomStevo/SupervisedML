{
 "cells": [
  {
   "cell_type": "markdown",
   "metadata": {},
   "source": [
    "# Support Vector Machine Examples"
   ]
  },
  {
   "cell_type": "code",
   "execution_count": null,
   "metadata": {},
   "outputs": [],
   "source": [
    "import pandas as pd\n",
    "import numpy as np\n",
    "import matplotlib.pyplot as plt\n",
    "from sklearn import svm\n",
    "import math\n",
    "import Datasets"
   ]
  },
  {
   "cell_type": "code",
   "execution_count": null,
   "metadata": {},
   "outputs": [],
   "source": [
    "plt.rcParams['figure.figsize'] = [10, 5]"
   ]
  },
  {
   "cell_type": "code",
   "execution_count": null,
   "metadata": {},
   "outputs": [],
   "source": [
    "# let's do the linear version first\n",
    "mu_s = [0.45,0.45]\n",
    "mu_b = [-0.45,-0.45]\n",
    "sigma_s = [0.2, 0.3]\n",
    "sigma_b = [0.2, 0.2]\n",
    "\n",
    "sig = Datasets.gen_2Dgauss(mu_s,sigma_s,100)\n",
    "bkg = Datasets.gen_2Dgauss(mu_b,sigma_b,100)"
   ]
  },
  {
   "cell_type": "code",
   "execution_count": null,
   "metadata": {},
   "outputs": [],
   "source": [
    "def plot_scatter(sig,bkg,xvar,yvar):\n",
    "    plt.plot(sig[xvar],sig[yvar], 'o', c='tab:blue', label='sig', alpha=0.5, markeredgecolor='k')\n",
    "    plt.plot(bkg[xvar],bkg[yvar], 'o', c='tab:orange', label='bkg', alpha=0.5, markeredgecolor='k')\n",
    "    plt.legend()\n",
    "    return"
   ]
  },
  {
   "cell_type": "code",
   "execution_count": null,
   "metadata": {},
   "outputs": [],
   "source": [
    "plot_scatter(sig,bkg,'x','y')"
   ]
  },
  {
   "cell_type": "code",
   "execution_count": null,
   "metadata": {},
   "outputs": [],
   "source": [
    "def train_svm(clf,sig,bkg):\n",
    "    X = np.concatenate( [sig.values,bkg.values] )\n",
    "    y = np.concatenate( [np.ones(len(sig.index)),np.zeros(len(bkg.index))] )\n",
    "\n",
    "    clf.fit(X,y)"
   ]
  },
  {
   "cell_type": "code",
   "execution_count": null,
   "metadata": {},
   "outputs": [],
   "source": [
    "clf = svm.SVC(kernel='linear',C=1.0)"
   ]
  },
  {
   "cell_type": "code",
   "execution_count": null,
   "metadata": {},
   "outputs": [],
   "source": [
    "train_svm(clf,sig,bkg)"
   ]
  },
  {
   "cell_type": "code",
   "execution_count": null,
   "metadata": {},
   "outputs": [],
   "source": [
    "clf.predict([sig.values[0],bkg.values[0]])"
   ]
  },
  {
   "cell_type": "code",
   "execution_count": null,
   "metadata": {},
   "outputs": [],
   "source": [
    "def evaluate_svm(clf,sig,bkg):\n",
    "    X = np.concatenate( [sig.values,bkg.values] )\n",
    "    y = np.concatenate( [np.ones(len(sig.index)),np.zeros(len(bkg.index))] )\n",
    "\n",
    "    X0, X1 = X[:,0], X[:,1]\n",
    "    x_min, x_max = X0.min() - 0.1, X0.max() + 0.1\n",
    "    y_min, y_max = X1.min() - 0.1, X1.max() + 0.1\n",
    "    xx, yy = np.meshgrid(np.arange(x_min, x_max, .01),\n",
    "                         np.arange(y_min, y_max, .01))\n",
    "    \n",
    "    Z = clf.predict(np.c_[xx.ravel(), yy.ravel()])\n",
    "    Z = Z.reshape(xx.shape)\n",
    "    out = plt.contourf(xx, yy, Z, colors=['tab:orange','tab:blue','tab:blue','tab:orange'], alpha=0.8)\n",
    "    plot_scatter(sig,bkg,'x','y')\n",
    "    return"
   ]
  },
  {
   "cell_type": "code",
   "execution_count": null,
   "metadata": {},
   "outputs": [],
   "source": [
    "evaluate_svm(clf,sig,bkg)"
   ]
  },
  {
   "cell_type": "markdown",
   "metadata": {},
   "source": [
    "What if the distributions are overlapping?"
   ]
  },
  {
   "cell_type": "code",
   "execution_count": null,
   "metadata": {},
   "outputs": [],
   "source": [
    "# Overlaps\n",
    "mu_s = [0.2,0.2]\n",
    "mu_b = [-0.2,-0.2]\n",
    "sigma_s = [0.2, 0.3]\n",
    "sigma_b = [0.2, 0.2]\n",
    "\n",
    "sig = Datasets.gen_2Dgauss(mu_s,sigma_s,100)\n",
    "bkg = Datasets.gen_2Dgauss(mu_b,sigma_b,100)\n",
    "\n",
    "clf = svm.SVC(kernel='linear')\n",
    "train_svm(clf,sig,bkg)\n",
    "evaluate_svm(clf,sig,bkg)"
   ]
  },
  {
   "cell_type": "code",
   "execution_count": null,
   "metadata": {},
   "outputs": [],
   "source": [
    "# Now for something less trivial\n",
    "def gen_spiral(a,s,r,w):\n",
    "    x = a*(r*math.sin(r)+math.cos(r))+w\n",
    "    y = a*(math.sin(r)-r*math.cos(r))-s+w\n",
    "    return x, y\n",
    "vspiral = np.vectorize(gen_spiral, excluded=['a','s'])"
   ]
  },
  {
   "cell_type": "code",
   "execution_count": null,
   "metadata": {},
   "outputs": [],
   "source": [
    "sig = pd.DataFrame()\n",
    "bkg = pd.DataFrame()\n",
    "sig_rand = np.random.uniform(0,10,1000)\n",
    "bkg_rand = np.random.uniform(0,10,1000)\n",
    "sig_wid = np.random.normal(0,0.05,1000)\n",
    "bkg_wid = np.random.normal(0,0.05,1000)\n",
    "\n",
    "sig['x'], sig['y'] = vspiral( a=0.2, s=0, r=sig_rand, w=sig_wid)\n",
    "bkg['x'], bkg['y'] = vspiral( a=-0.2, s=0.2, r=bkg_rand, w=bkg_wid)"
   ]
  },
  {
   "cell_type": "code",
   "execution_count": null,
   "metadata": {},
   "outputs": [],
   "source": [
    "plot_scatter(sig,bkg,'x','y')"
   ]
  },
  {
   "cell_type": "code",
   "execution_count": null,
   "metadata": {},
   "outputs": [],
   "source": [
    "# Let's try the linear svm we used before\n",
    "train_svm(clf,sig,bkg)\n",
    "evaluate_svm(clf,sig,bkg)"
   ]
  },
  {
   "cell_type": "code",
   "execution_count": null,
   "metadata": {},
   "outputs": [],
   "source": [
    "# Try a different kernel\n",
    "clf = svm.SVC(kernel='poly',C=1.0,gamma='scale',degree=3,coef0=0.0)\n",
    "train_svm(clf,sig,bkg)\n",
    "evaluate_svm(clf,sig,bkg)"
   ]
  },
  {
   "cell_type": "code",
   "execution_count": null,
   "metadata": {},
   "outputs": [],
   "source": [
    "clf = svm.SVC(kernel='rbf',C=1.0,gamma='scale')\n",
    "train_svm(clf,sig,bkg)\n",
    "evaluate_svm(clf,sig,bkg)"
   ]
  },
  {
   "cell_type": "code",
   "execution_count": null,
   "metadata": {},
   "outputs": [],
   "source": [
    "sig = Datasets.gen_chess('s',1000)\n",
    "bkg = Datasets.gen_chess('b',1000)\n",
    "\n",
    "clf = svm.SVC(kernel='rbf',gamma=20)\n",
    "train_svm(clf,sig,bkg)\n",
    "evaluate_svm(clf,sig,bkg)"
   ]
  }
 ],
 "metadata": {
  "kernelspec": {
   "display_name": "Python 3",
   "language": "python",
   "name": "python3"
  },
  "language_info": {
   "codemirror_mode": {
    "name": "ipython",
    "version": 3
   },
   "file_extension": ".py",
   "mimetype": "text/x-python",
   "name": "python",
   "nbconvert_exporter": "python",
   "pygments_lexer": "ipython3",
   "version": "3.6.6"
  }
 },
 "nbformat": 4,
 "nbformat_minor": 2
}
