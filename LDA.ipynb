{
 "cells": [
  {
   "cell_type": "markdown",
   "metadata": {},
   "source": [
    "# Simple Linear Discriminant Analysis Example"
   ]
  },
  {
   "cell_type": "markdown",
   "metadata": {},
   "source": [
    "A simple example of how to perform a two variable linear discriminant analysis using pandas and numpy"
   ]
  },
  {
   "cell_type": "code",
   "execution_count": null,
   "metadata": {},
   "outputs": [],
   "source": [
    "import pandas as pd\n",
    "import numpy as np\n",
    "import matplotlib.pyplot as plt\n",
    "from sklearn.discriminant_analysis import LinearDiscriminantAnalysis"
   ]
  },
  {
   "cell_type": "code",
   "execution_count": null,
   "metadata": {},
   "outputs": [],
   "source": [
    "plt.rcParams['figure.figsize'] = [10, 5]"
   ]
  },
  {
   "cell_type": "code",
   "execution_count": null,
   "metadata": {},
   "outputs": [],
   "source": [
    "gen_sigma_s = [0.5, 0.3]\n",
    "gen_sigma_b = [0.3, 0.6]\n",
    "gen_mu_s = [1.0,0.7]\n",
    "gen_mu_b = [0.1,-0.2]"
   ]
  },
  {
   "cell_type": "code",
   "execution_count": null,
   "metadata": {},
   "outputs": [],
   "source": [
    "df_sig = pd.DataFrame(np.random.normal(gen_mu_s,gen_sigma_s,(10000,2)), columns=list('xy'))\n",
    "df_bkg = pd.DataFrame(np.random.normal(gen_mu_b,gen_sigma_b,(10000,2)), columns=list('xy'))"
   ]
  },
  {
   "cell_type": "code",
   "execution_count": null,
   "metadata": {},
   "outputs": [],
   "source": [
    "def plot_var(sig,bkg):\n",
    "    vals = [sig.values,bkg.values]\n",
    "    var_min = min( sig.mean()-5*sig.std(), bkg.mean()-5*bkg.std())\n",
    "    var_max = max( sig.mean()+5*sig.std(), bkg.mean()+5*bkg.std())\n",
    "    step = (var_max-var_min)/30\n",
    "    bins = [ x*step + var_min for x in range(31) ]\n",
    "    plt.hist(vals,bins=bins,stacked=False,label=['sig','bkg'])\n",
    "    plt.legend()\n",
    "    plt.show()\n",
    "    return"
   ]
  },
  {
   "cell_type": "code",
   "execution_count": null,
   "metadata": {},
   "outputs": [],
   "source": [
    "plot_var(df_sig.x,df_bkg.x)\n",
    "plot_var(df_sig.y,df_bkg.y)"
   ]
  },
  {
   "cell_type": "code",
   "execution_count": null,
   "metadata": {},
   "outputs": [],
   "source": [
    "mu_s = np.array([df_sig.x.mean(),df_sig.y.mean()])\n",
    "mu_b = np.array([df_bkg.x.mean(),df_bkg.y.mean()])"
   ]
  },
  {
   "cell_type": "code",
   "execution_count": null,
   "metadata": {},
   "outputs": [],
   "source": [
    "sigma_s = df_sig[ ['x','y'] ].cov().values\n",
    "sigma_b = df_bkg[ ['x','y'] ].cov().values"
   ]
  },
  {
   "cell_type": "code",
   "execution_count": null,
   "metadata": {},
   "outputs": [],
   "source": [
    "mu_sub = mu_s - mu_b\n",
    "cov_add = np.square(sigma_s) + np.square(sigma_b)\n",
    "\n",
    "inv_cov = np.linalg.inv(cov_add)\n",
    "alpha = inv_cov.dot(mu_sub)"
   ]
  },
  {
   "cell_type": "code",
   "execution_count": null,
   "metadata": {},
   "outputs": [],
   "source": [
    "# Define funtion to calculate linear discriminant for one row\n",
    "def lin_comb(alpha,var1,var2):\n",
    "    return var1*alpha[0] + var2*alpha[1]\n",
    "\n",
    "# Now vectorize this function so it can be used for all rows\n",
    "vlin_comb = np.vectorize(lin_comb, excluded=['alpha'])"
   ]
  },
  {
   "cell_type": "code",
   "execution_count": null,
   "metadata": {},
   "outputs": [],
   "source": [
    "df_sig['ld'] = vlin_comb( alpha=alpha, var1=df_sig.x, var2=df_sig.y)\n",
    "df_bkg['ld'] = vlin_comb( alpha=alpha, var1=df_bkg.x, var2=df_bkg.y)"
   ]
  },
  {
   "cell_type": "code",
   "execution_count": null,
   "metadata": {},
   "outputs": [],
   "source": [
    "plot_var(df_sig.ld,df_bkg.ld)"
   ]
  },
  {
   "cell_type": "code",
   "execution_count": null,
   "metadata": {},
   "outputs": [],
   "source": [
    "def calc_sep(sig,bkg):\n",
    "    return ((sig.mean()-bkg.mean())**2)/(sig.std()**2 + bkg.std()**2)"
   ]
  },
  {
   "cell_type": "code",
   "execution_count": null,
   "metadata": {},
   "outputs": [],
   "source": [
    "sep_x = calc_sep(df_sig.x,df_bkg.x)\n",
    "sep_y = calc_sep(df_sig.y,df_bkg.y)\n",
    "sep_ld = calc_sep(df_sig.ld,df_bkg.ld)\n",
    "print('x sep. : ',sep_x)\n",
    "print('y sep. : ',sep_y)\n",
    "print('ld sep. : ',sep_ld)"
   ]
  },
  {
   "cell_type": "code",
   "execution_count": null,
   "metadata": {},
   "outputs": [],
   "source": [
    "clf = LinearDiscriminantAnalysis()"
   ]
  },
  {
   "cell_type": "code",
   "execution_count": null,
   "metadata": {},
   "outputs": [],
   "source": [
    "X = np.concatenate( [df_sig.values,df_bkg.values] )\n",
    "y = np.concatenate( [np.ones(len(df_sig.index)),np.zeros(len(df_bkg.index))] )"
   ]
  },
  {
   "cell_type": "code",
   "execution_count": null,
   "metadata": {},
   "outputs": [],
   "source": [
    "clf.fit(X,y)"
   ]
  },
  {
   "cell_type": "code",
   "execution_count": null,
   "metadata": {},
   "outputs": [],
   "source": [
    "df_sig['sk_ld'] = clf.decision_function(df_sig.values)\n",
    "df_bkg['sk_ld'] = clf.decision_function(df_bkg.values)\n",
    "print(df_sig.sk_ld.values)"
   ]
  },
  {
   "cell_type": "code",
   "execution_count": null,
   "metadata": {},
   "outputs": [],
   "source": [
    "plot_var(df_sig.sk_ld,df_bkg.sk_ld)\n",
    "print('sk_ld sep. : ',calc_sep(df_sig.sk_ld,df_bkg.sk_ld))"
   ]
  }
 ],
 "metadata": {
  "kernelspec": {
   "display_name": "Python 3",
   "language": "python",
   "name": "python3"
  },
  "language_info": {
   "codemirror_mode": {
    "name": "ipython",
    "version": 3
   },
   "file_extension": ".py",
   "mimetype": "text/x-python",
   "name": "python",
   "nbconvert_exporter": "python",
   "pygments_lexer": "ipython3",
   "version": "3.6.6"
  }
 },
 "nbformat": 4,
 "nbformat_minor": 2
}
