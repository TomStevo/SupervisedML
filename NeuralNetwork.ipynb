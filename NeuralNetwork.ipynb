{
 "cells": [
  {
   "cell_type": "markdown",
   "metadata": {},
   "source": [
    "# Multi-layer Perceptron\n",
    "<a href=\"https://scikit-learn.org/stable/modules/generated/sklearn.neural_network.MLPClassifier.html#sklearn.neural_network.MLPClassifier\">\n",
    "SkLearn MLPClassifier\n",
    "</a>"
   ]
  },
  {
   "cell_type": "code",
   "execution_count": null,
   "metadata": {},
   "outputs": [],
   "source": [
    "import pandas as pd\n",
    "import numpy as np\n",
    "import matplotlib\n",
    "import matplotlib.pyplot as plt\n",
    "from sklearn.neural_network import MLPClassifier\n",
    "import Datasets\n",
    "import Plotting\n",
    "import Tools"
   ]
  },
  {
   "cell_type": "code",
   "execution_count": null,
   "metadata": {},
   "outputs": [],
   "source": [
    "matplotlib.rcParams['figure.figsize'] = (10, 5)"
   ]
  },
  {
   "cell_type": "code",
   "execution_count": null,
   "metadata": {},
   "outputs": [],
   "source": [
    "sig_spiral = Datasets.gen_spiral( a=0.2, s=0, n=1000 )\n",
    "bkg_spiral = Datasets.gen_spiral( a=-0.2, s=0.2, n=1000 )  \n",
    "\n",
    "MLP_spiral = MLPClassifier(solver='lbfgs', alpha=1e-4, hidden_layer_sizes=(5, ), random_state=1,\n",
    "                    activation='logistic')"
   ]
  },
  {
   "cell_type": "code",
   "execution_count": null,
   "metadata": {},
   "outputs": [],
   "source": [
    "Tools.train_mva(MLP_spiral,sig_spiral,bkg_spiral)\n",
    "Tools.evaluate_mva(MLP_spiral,sig_spiral,bkg_spiral)\n",
    "plt.show()"
   ]
  },
  {
   "cell_type": "code",
   "execution_count": null,
   "metadata": {},
   "outputs": [],
   "source": [
    "sig_chess = Datasets.gen_chess('s',1000)\n",
    "bkg_chess = Datasets.gen_chess('b',1000)\n",
    "\n",
    "MLP_chess = MLPClassifier(solver='lbfgs', alpha=1e-4, hidden_layer_sizes=(5, ), random_state=1,\n",
    "                    activation='logistic')\n",
    "\n",
    "Tools.train_mva(MLP_chess,sig_chess,bkg_chess)\n",
    "Tools.evaluate_mva(MLP_chess,sig_chess,bkg_chess)\n",
    "plt.show()"
   ]
  }
 ],
 "metadata": {
  "kernelspec": {
   "display_name": "Python 3",
   "language": "python",
   "name": "python3"
  },
  "language_info": {
   "codemirror_mode": {
    "name": "ipython",
    "version": 3
   },
   "file_extension": ".py",
   "mimetype": "text/x-python",
   "name": "python",
   "nbconvert_exporter": "python",
   "pygments_lexer": "ipython3",
   "version": "3.6.6"
  }
 },
 "nbformat": 4,
 "nbformat_minor": 2
}
